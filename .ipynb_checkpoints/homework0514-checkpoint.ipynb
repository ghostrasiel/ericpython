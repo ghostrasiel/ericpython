{
 "cells": [
  {
   "cell_type": "code",
   "execution_count": 6,
   "id": "569170e7",
   "metadata": {},
   "outputs": [
    {
     "ename": "ModuleNotFoundError",
     "evalue": "No module named 'requests'",
     "output_type": "error",
     "traceback": [
      "\u001b[0;31m---------------------------------------------------------------------------\u001b[0m",
      "\u001b[0;31mModuleNotFoundError\u001b[0m                       Traceback (most recent call last)",
      "\u001b[0;32m<ipython-input-6-36924875ff73>\u001b[0m in \u001b[0;36m<module>\u001b[0;34m\u001b[0m\n\u001b[0;32m----> 1\u001b[0;31m \u001b[0;32mimport\u001b[0m \u001b[0mrequests\u001b[0m\u001b[0;34m\u001b[0m\u001b[0;34m\u001b[0m\u001b[0m\n\u001b[0m\u001b[1;32m      2\u001b[0m \u001b[0;32mfrom\u001b[0m \u001b[0mbs4\u001b[0m \u001b[0;32mimport\u001b[0m \u001b[0mBeautifulSoup\u001b[0m\u001b[0;34m\u001b[0m\u001b[0;34m\u001b[0m\u001b[0m\n\u001b[1;32m      3\u001b[0m \u001b[0;32mimport\u001b[0m \u001b[0mos\u001b[0m\u001b[0;34m\u001b[0m\u001b[0;34m\u001b[0m\u001b[0m\n\u001b[1;32m      4\u001b[0m \u001b[0;32mimport\u001b[0m \u001b[0mrandom\u001b[0m\u001b[0;34m\u001b[0m\u001b[0;34m\u001b[0m\u001b[0m\n\u001b[1;32m      5\u001b[0m \u001b[0;32mimport\u001b[0m \u001b[0mtime\u001b[0m\u001b[0;34m\u001b[0m\u001b[0;34m\u001b[0m\u001b[0m\n",
      "\u001b[0;31mModuleNotFoundError\u001b[0m: No module named 'requests'"
     ]
    }
   ],
   "source": [
    "import requests\n",
    "from bs4 import BeautifulSoup\n",
    "import os \n",
    "import random\n",
    "import time\n",
    "\n",
    "url = 'https://www.ptt.cc/bbs/Gossiping/index.html'\n",
    "ppt_post_title = url.split('/')[4]\n",
    "print(ppt_post_title)\n",
    "if os.path.exists(f'./{ppt_post_title}爬蟲資料') == False:\n",
    "    os.mkdir(f'./{ppt_post_title}爬蟲資料')\n",
    "\n",
    "userAgent = 'Mozilla/5.0 (Windows NT 10.0; Win64; x64) AppleWebKit/537.36 (KHTML, like Gecko) Chrome/90.0.4430.212 Safari/537.36'\n",
    "headers = {'User-Agent' : userAgent}\n",
    "cookies = {'over18':'1'}\n",
    "\n",
    "\n",
    "for i in range(3):\n",
    "    print(f'-------第{i+1}頁開始--------')\n",
    "    res = requests.get(url = url , headers  = headers , cookies = cookies) \n",
    "    soup = BeautifulSoup(res.text)\n",
    "    clums = soup.select('div.r-ent') #文章格\n",
    "    y = 0\n",
    "    for clum in clums :\n",
    "        try:\n",
    "            y =y+1\n",
    "            title = clum.find('a').text.replace('\\w','')\n",
    "            for a in ('/','?','.','*','>','<',':'):\n",
    "                title = title.replace(a ,'')\n",
    "            href ='https://www.ptt.cc'+clum.find('a')['href']\n",
    "            time.sleep(random.randint(1,3))\n",
    "            post_res = requests.get(url = href , headers=headers , cookies = cookies)\n",
    "            post_soup = BeautifulSoup(post_res.text)\n",
    "            post_title = post_soup.title.text.split(' - ')[0]\n",
    "            post_author = post_soup.findAll('div' , class_='article-metaline')[0].find('span' , 'article-meta-value').text\n",
    "            post_time = post_soup.findAll('div' , class_='article-metaline')[2].find('span' , 'article-meta-value').text\n",
    "            post_reply = post_soup.findAll('div' , class_='push')\n",
    "            post_concant = post_soup.select('div#main-content')[0]\n",
    "            for i in ('div','span'):\n",
    "                for tag in post_concant.select(i):\n",
    "                     tag.extract()\n",
    "            n = 0\n",
    "            good = 0\n",
    "            bad = 0\n",
    "            for r in range(0, len(post_reply)):\n",
    "                n = n+1\n",
    "                if len(post_reply[r].find('span')['class']) == 2:\n",
    "                    good = good +1\n",
    "                elif len(post_reply[r].find('span')['class']) == 3:\n",
    "                    if '噓 ' in post_reply[r].find('span' , class_='f1 hl push-tag'):\n",
    "                            bad =bad + 1\n",
    "            print(title)\n",
    "            with open(r'./{}爬蟲資料/{}x{}.txt'.format(ppt_post_title,y,title) , 'w' , encoding='utf-8') as f:\n",
    "                f.write(post_title+'\\n')\n",
    "                f.write(post_concant.text.split('--')[0]+'\\n')\n",
    "                f.write('author:'+post_author+'\\n')\n",
    "                f.write('time:'+post_time+'\\n')\n",
    "                f.write('回文數:'+str(n)+'\\n')\n",
    "                f.write('推數:'+str(good)+'\\n')\n",
    "                f.write('噓數:'+str(bad)+'\\n')\n",
    "        except:\n",
    "            print('水桶文章')\n",
    "        time.sleep(random.randint(1,3))\n",
    "    print(f'共{y}個文章被下載')\n",
    "    print('-------結束--------')\n",
    "    url = 'https://www.ptt.cc'+soup.find('div', class_='btn-group btn-group-paging').findAll('a')[1]['href']    \n",
    "        \n",
    "        \n",
    "# print(post_concant.text.split('--')[0])\n",
    "# print('title:',post_title)\n",
    "# print('author:',post_author)\n",
    "# print('time:',post_time)\n",
    "# print('回文數:',n)\n",
    "# print('推數:',good)\n",
    "# print('噓數:',bad)"
   ]
  },
  {
   "cell_type": "code",
   "execution_count": 76,
   "id": "65abcb44",
   "metadata": {},
   "outputs": [
    {
     "name": "stdout",
     "output_type": "stream",
     "text": [
      "[問卦] 有沒有高雄確診女隱瞞接觸史的八卦\n"
     ]
    }
   ],
   "source": [
    "import re\n",
    "title ='[問卦] <有沒有高雄確診女隱瞞接觸史的八卦?>'\n",
    "for a in ('/','?','.','*','>','<'):\n",
    "    title = title.replace(a ,'')\n",
    "print(title)"
   ]
  },
  {
   "cell_type": "code",
   "execution_count": null,
   "id": "5097e7b8",
   "metadata": {},
   "outputs": [],
   "source": []
  }
 ],
 "metadata": {
  "kernelspec": {
   "display_name": "Python 3",
   "language": "python",
   "name": "python3"
  },
  "language_info": {
   "codemirror_mode": {
    "name": "ipython",
    "version": 3
   },
   "file_extension": ".py",
   "mimetype": "text/x-python",
   "name": "python",
   "nbconvert_exporter": "python",
   "pygments_lexer": "ipython3",
   "version": "3.8.8"
  }
 },
 "nbformat": 4,
 "nbformat_minor": 5
}

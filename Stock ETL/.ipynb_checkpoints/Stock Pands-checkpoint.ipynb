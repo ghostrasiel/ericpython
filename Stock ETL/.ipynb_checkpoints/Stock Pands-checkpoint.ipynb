{
 "cells": [
  {
   "cell_type": "code",
   "execution_count": 10,
   "id": "188c2742",
   "metadata": {},
   "outputs": [],
   "source": [
    "stock_dict={\"01\":\"水泥工業\",\"02\":\"食品工業\",\"03\":\"塑膠工業\",\"04\":\"紡織纖維\",\"05\":\"電機機械\",\"06\":\"電器電纜\",\n",
    "\"08\":\"玻璃陶瓷\",\"09\":\"造紙工業\" ,\"10\":\"鋼鐵工業\",\"11\":\"橡膠工業\",\"12\":\"汽車工業\",\"14\":\"建材營造\",\"15\":\"航運業\",\"16\":\"觀光事業\",\n",
    "\"17\":\"金融保險\",\"18\":\"貿易百貨\",\"19\":\"綜合\",\"20\":\"其他\",\"21\":\"化學工業\",\"22\":\"生技醫療業\",\"23\":\"油電燃氣業\",\n",
    "\"24\":\"半導體業\",\"25\":\"電腦及週邊設備業\",\"26\":\"光電業\",\"27\":\"通信網路業\",\"28\":\"電子零組件業\",\"29\":\"電子通路業\",\"30\":\"資訊服務業\",\n",
    "\"31\":\"其他電子業\"}"
   ]
  },
  {
   "cell_type": "code",
   "execution_count": 30,
   "id": "4ac752a7",
   "metadata": {},
   "outputs": [
    {
     "name": "stdout",
     "output_type": "stream",
     "text": [
      "IKKA-KYis Error\n"
     ]
    }
   ],
   "source": [
    "import requests\n",
    "from bs4 import BeautifulSoup\n",
    "import json\n",
    "import pandas as pd\n",
    "\n",
    "stock_data = []\n",
    "for i in stock_dict.keys():\n",
    "#     print(i)\n",
    "    page_url=f'https://mis.twse.com.tw/stock/api/getCategory.jsp?ex=tse&i={i}'\n",
    "    headers = {'User-Agent': 'Mozilla/5.0 (Windows NT 10.0; Win64; x64) AppleWebKit/537.36 (KHTML, like Gecko) Chrome/91.0.4472.77 Safari/537.36'}\n",
    "    page_res=requests.get(url=page_url , headers=headers)\n",
    "    page_jsons=json.loads(page_res.text)\n",
    "    stock_xs = []\n",
    "    for page_json in page_jsons['msgArray']:\n",
    "        x = page_json['key'].split('_')\n",
    "        stock_x=x[0]+'_'+x[1]\n",
    "        stock_xs.append(stock_x)\n",
    "    s ='|'\n",
    "    stock_str = s.join(stock_xs)\n",
    "\n",
    "    url = f\"https://mis.twse.com.tw/stock/api/getStockInfo.jsp?ex_ch={stock_str}|&json=1\"\n",
    "    headers = {'User-Agent': 'Mozilla/5.0 (Windows NT 10.0; Win64; x64) AppleWebKit/537.36 (KHTML, like Gecko) Chrome/91.0.4472.77 Safari/537.36'}\n",
    "    res = requests.get(url=url , headers=headers)\n",
    "    jsonData =json.loads(res.text)\n",
    "    Data_arrays=jsonData['msgArray']\n",
    "    for array in Data_arrays:\n",
    "            try:\n",
    "                array_list=[]\n",
    "                array_list.append(array['d'])\n",
    "                array_list.append(array['t'])\n",
    "                array_list.append(stock_dict[i])\n",
    "                array_list.append(array['n'])\n",
    "#                 print(array['n'])\n",
    "                array_list.append(array['c'])\n",
    "                array_list.append(array['o'])\n",
    "                array_list.append(array['u'])\n",
    "                array_list.append(array['w'])\n",
    "                array_list.append(array['h'])\n",
    "                array_list.append(array['l'])\n",
    "                array_list.append(array['z'])\n",
    "                array_list.append(array['c'])\n",
    "                stock_data.append(array_list)\n",
    "            except KeyError:\n",
    "                print(array['n']+'is Error')\n",
    "                pass\n",
    "                    \n",
    "\n",
    "coulmns =['股票日期','更新時間點','股票類別','股票名稱','股票代號','開盤價','漲停價','跌停價','當日最高','當日最低','成交價','成交量']\n",
    "df = pd.DataFrame(columns=coulmns , data=stock_data )\n",
    "df.to_csv('./stock.csv' , encoding='utf-8-sig')\n",
    "\n"
   ]
  },
  {
   "cell_type": "code",
   "execution_count": null,
   "id": "a0fba58c",
   "metadata": {},
   "outputs": [],
   "source": []
  }
 ],
 "metadata": {
  "kernelspec": {
   "display_name": "Python 3",
   "language": "python",
   "name": "python3"
  },
  "language_info": {
   "codemirror_mode": {
    "name": "ipython",
    "version": 3
   },
   "file_extension": ".py",
   "mimetype": "text/x-python",
   "name": "python",
   "nbconvert_exporter": "python",
   "pygments_lexer": "ipython3",
   "version": "3.9.4"
  }
 },
 "nbformat": 4,
 "nbformat_minor": 5
}
